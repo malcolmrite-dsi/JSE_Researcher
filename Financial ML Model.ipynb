{
 "cells": [
  {
   "cell_type": "code",
   "execution_count": 1,
   "metadata": {},
   "outputs": [],
   "source": [
    "import pandas as pd\n",
    "import numpy as np"
   ]
  },
  {
   "cell_type": "code",
   "execution_count": 5,
   "metadata": {},
   "outputs": [],
   "source": [
    "traindata = pd.read_csv(\"train_data\\Financials_ABG.csv\")\n",
    "traindata = np.array(traindata)"
   ]
  },
  {
   "cell_type": "code",
   "execution_count": 6,
   "metadata": {},
   "outputs": [
    {
     "data": {
      "text/plain": [
       "array([[nan, 'Interim (6m)', 'Final (12m)', ..., 'Final (12m)',\n",
       "        'Interim (6m)', nan],\n",
       "       [nan, '24 Aug 2020', '11 Mar 2020', ..., '15 Feb 2011',\n",
       "        '4 Aug 2010', nan],\n",
       "       ['Interest Paid', '24802', '51337', ..., '30901', '16297', nan],\n",
       "       ...,\n",
       "       ['Lendings : Deposits', '1.02', '1.03', ..., '1.33', '1.35', nan],\n",
       "       ['Interest Received : Interest Paid', '1.97', '1.91', ..., '1.76',\n",
       "        '1.69', nan],\n",
       "       ['PEG Ratio', '3.48', '3.12', ..., '2.57', '1.51', nan]],\n",
       "      dtype=object)"
      ]
     },
     "execution_count": 6,
     "metadata": {},
     "output_type": "execute_result"
    }
   ],
   "source": [
    "traindata"
   ]
  },
  {
   "cell_type": "code",
   "execution_count": null,
   "metadata": {},
   "outputs": [],
   "source": []
  },
  {
   "cell_type": "code",
   "execution_count": null,
   "metadata": {},
   "outputs": [],
   "source": [
    "traindata_f = traindata.drop()"
   ]
  }
 ],
 "metadata": {
  "kernelspec": {
   "display_name": "Python 3",
   "language": "python",
   "name": "python3"
  },
  "language_info": {
   "codemirror_mode": {
    "name": "ipython",
    "version": 3
   },
   "file_extension": ".py",
   "mimetype": "text/x-python",
   "name": "python",
   "nbconvert_exporter": "python",
   "pygments_lexer": "ipython3",
   "version": "3.6.8"
  }
 },
 "nbformat": 4,
 "nbformat_minor": 2
}
