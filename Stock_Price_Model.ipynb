{
  "nbformat": 4,
  "nbformat_minor": 0,
  "metadata": {
    "colab": {
      "name": "Stock_Price_Model",
      "provenance": [],
      "collapsed_sections": [],
      "toc_visible": true,
      "mount_file_id": "1QkHiBP1RaeuX_m8jd7RWOoP1JYpcYTQ4",
      "authorship_tag": "ABX9TyMqDJq+KvVULFvx2ce86doC",
      "include_colab_link": true
    },
    "kernelspec": {
      "name": "python3",
      "display_name": "Python 3"
    }
  },
  "cells": [
    {
      "cell_type": "markdown",
      "metadata": {
        "id": "view-in-github",
        "colab_type": "text"
      },
      "source": [
        "<a href=\"https://colab.research.google.com/github/malcolmrite-dsi/JSE_Researcher/blob/main/Stock_Price_Model.ipynb\" target=\"_parent\"><img src=\"https://colab.research.google.com/assets/colab-badge.svg\" alt=\"Open In Colab\"/></a>"
      ]
    },
    {
      "cell_type": "code",
      "metadata": {
        "id": "gQLZUSWLqE1Z"
      },
      "source": [
        "!pip install pmdarima"
      ],
      "execution_count": null,
      "outputs": []
    },
    {
      "cell_type": "code",
      "metadata": {
        "id": "7PPz7rjiqQBS"
      },
      "source": [
        "!pip install nsepy"
      ],
      "execution_count": null,
      "outputs": []
    },
    {
      "cell_type": "markdown",
      "metadata": {
        "id": "dZlq1o0JikHt"
      },
      "source": [
        "https://www.analyticsvidhya.com/blog/2020/11/stock-market-price-trend-prediction-using-time-series-forecasting/"
      ]
    },
    {
      "cell_type": "code",
      "metadata": {
        "id": "Dv9wy3dMH4sQ"
      },
      "source": [
        "import os\r\n",
        "import warnings\r\n",
        "warnings.filterwarnings('ignore')\r\n",
        "from pylab import rcParams\r\n",
        "rcParams['figure.figsize'] = 10, 6\r\n",
        "from statsmodels.tsa.stattools import adfuller\r\n",
        "from statsmodels.tsa.seasonal import seasonal_decompose\r\n",
        "from statsmodels.graphics.tsaplots import plot_acf, plot_pacf\r\n",
        "from statsmodels.tsa.arima_model import ARIMA\r\n",
        "from pmdarima.arima import auto_arima\r\n",
        "from sklearn.metrics import mean_squared_error, mean_absolute_error\r\n",
        "import math\r\n",
        "from pmdarima.arima.utils import ndiffs\r\n",
        "\r\n",
        "from statsmodels.tsa.stattools import acf\r\n",
        "import numpy as np\r\n",
        "from nsepy import get_history\r\n",
        "from datetime import date\r\n",
        "import matplotlib.pyplot as plt\r\n",
        "import seaborn as sns\r\n",
        "import pandas as pd\r\n",
        "import pickle"
      ],
      "execution_count": 47,
      "outputs": []
    },
    {
      "cell_type": "markdown",
      "metadata": {
        "id": "oeQcDpQoJBw4"
      },
      "source": [
        "# Importing Training Data"
      ]
    },
    {
      "cell_type": "code",
      "metadata": {
        "id": "mJUNUNIJJc1r"
      },
      "source": [
        "top40 = pd.read_csv(\"drive/MyDrive/TOP40_company_list.csv\")"
      ],
      "execution_count": 2,
      "outputs": []
    },
    {
      "cell_type": "code",
      "metadata": {
        "colab": {
          "base_uri": "https://localhost:8080/",
          "height": 195
        },
        "id": "ofaeMyONJwKY",
        "outputId": "9d1e9ad5-5dc4-4fda-f6f5-de0643d75068"
      },
      "source": [
        "top40.head()"
      ],
      "execution_count": 3,
      "outputs": [
        {
          "output_type": "execute_result",
          "data": {
            "text/html": [
              "<div>\n",
              "<style scoped>\n",
              "    .dataframe tbody tr th:only-of-type {\n",
              "        vertical-align: middle;\n",
              "    }\n",
              "\n",
              "    .dataframe tbody tr th {\n",
              "        vertical-align: top;\n",
              "    }\n",
              "\n",
              "    .dataframe thead th {\n",
              "        text-align: right;\n",
              "    }\n",
              "</style>\n",
              "<table border=\"1\" class=\"dataframe\">\n",
              "  <thead>\n",
              "    <tr style=\"text-align: right;\">\n",
              "      <th></th>\n",
              "      <th>Share Code</th>\n",
              "      <th>Short Name</th>\n",
              "    </tr>\n",
              "  </thead>\n",
              "  <tbody>\n",
              "    <tr>\n",
              "      <th>0</th>\n",
              "      <td>ABG</td>\n",
              "      <td>ABSA</td>\n",
              "    </tr>\n",
              "    <tr>\n",
              "      <th>1</th>\n",
              "      <td>ARI</td>\n",
              "      <td>ARM</td>\n",
              "    </tr>\n",
              "    <tr>\n",
              "      <th>2</th>\n",
              "      <td>AMS</td>\n",
              "      <td>AMPLATS</td>\n",
              "    </tr>\n",
              "    <tr>\n",
              "      <th>3</th>\n",
              "      <td>AGL</td>\n",
              "      <td>ANGLO</td>\n",
              "    </tr>\n",
              "    <tr>\n",
              "      <th>4</th>\n",
              "      <td>ANG</td>\n",
              "      <td>ANGGOLD</td>\n",
              "    </tr>\n",
              "  </tbody>\n",
              "</table>\n",
              "</div>"
            ],
            "text/plain": [
              "  Share Code Short Name\n",
              "0        ABG       ABSA\n",
              "1        ARI        ARM\n",
              "2        AMS    AMPLATS\n",
              "3        AGL      ANGLO\n",
              "4        ANG    ANGGOLD"
            ]
          },
          "metadata": {
            "tags": []
          },
          "execution_count": 3
        }
      ]
    },
    {
      "cell_type": "code",
      "metadata": {
        "colab": {
          "base_uri": "https://localhost:8080/",
          "height": 195
        },
        "id": "_R6vRe7XJMcZ",
        "outputId": "c2b9d211-629a-44a1-96a0-3ee04061aef7"
      },
      "source": [
        "train_df = pd.DataFrame(columns=[\"Date\",\t\"Open\",\t\"High\"\t,\"Low\"\t,\"Close\",\t\"Adj Close\",\t\"Volume\", \"Code\"])\r\n",
        "for code in top40[\"Share Code\"]:\r\n",
        "  df = pd.read_csv(f\"drive/MyDrive/Kaggle dataset/{code}.JO.csv\")\r\n",
        "  df[\"Code\"] = code\r\n",
        "  frames = [train_df, df]\r\n",
        "  train_df = pd.concat(frames)\r\n",
        "\r\n",
        "train_df.tail()"
      ],
      "execution_count": 4,
      "outputs": [
        {
          "output_type": "execute_result",
          "data": {
            "text/html": [
              "<div>\n",
              "<style scoped>\n",
              "    .dataframe tbody tr th:only-of-type {\n",
              "        vertical-align: middle;\n",
              "    }\n",
              "\n",
              "    .dataframe tbody tr th {\n",
              "        vertical-align: top;\n",
              "    }\n",
              "\n",
              "    .dataframe thead th {\n",
              "        text-align: right;\n",
              "    }\n",
              "</style>\n",
              "<table border=\"1\" class=\"dataframe\">\n",
              "  <thead>\n",
              "    <tr style=\"text-align: right;\">\n",
              "      <th></th>\n",
              "      <th>Date</th>\n",
              "      <th>Open</th>\n",
              "      <th>High</th>\n",
              "      <th>Low</th>\n",
              "      <th>Close</th>\n",
              "      <th>Adj Close</th>\n",
              "      <th>Volume</th>\n",
              "      <th>Code</th>\n",
              "    </tr>\n",
              "  </thead>\n",
              "  <tbody>\n",
              "    <tr>\n",
              "      <th>2995</th>\n",
              "      <td>2021-01-07</td>\n",
              "      <td>12400.0</td>\n",
              "      <td>12637.0</td>\n",
              "      <td>12285.0</td>\n",
              "      <td>12601.0</td>\n",
              "      <td>12601.0</td>\n",
              "      <td>1222189</td>\n",
              "      <td>VOD</td>\n",
              "    </tr>\n",
              "    <tr>\n",
              "      <th>2996</th>\n",
              "      <td>2021-01-08</td>\n",
              "      <td>12680.0</td>\n",
              "      <td>13219.0</td>\n",
              "      <td>12550.0</td>\n",
              "      <td>13188.0</td>\n",
              "      <td>13188.0</td>\n",
              "      <td>2796671</td>\n",
              "      <td>VOD</td>\n",
              "    </tr>\n",
              "    <tr>\n",
              "      <th>2997</th>\n",
              "      <td>2021-01-11</td>\n",
              "      <td>12800.0</td>\n",
              "      <td>13261.0</td>\n",
              "      <td>12906.0</td>\n",
              "      <td>12986.0</td>\n",
              "      <td>12986.0</td>\n",
              "      <td>2185762</td>\n",
              "      <td>VOD</td>\n",
              "    </tr>\n",
              "    <tr>\n",
              "      <th>2998</th>\n",
              "      <td>2021-01-12</td>\n",
              "      <td>13010.0</td>\n",
              "      <td>12989.0</td>\n",
              "      <td>12759.0</td>\n",
              "      <td>12953.0</td>\n",
              "      <td>12953.0</td>\n",
              "      <td>1545602</td>\n",
              "      <td>VOD</td>\n",
              "    </tr>\n",
              "    <tr>\n",
              "      <th>2999</th>\n",
              "      <td>2021-01-13</td>\n",
              "      <td>12759.0</td>\n",
              "      <td>13248.0</td>\n",
              "      <td>12846.0</td>\n",
              "      <td>12932.0</td>\n",
              "      <td>12932.0</td>\n",
              "      <td>2137728</td>\n",
              "      <td>VOD</td>\n",
              "    </tr>\n",
              "  </tbody>\n",
              "</table>\n",
              "</div>"
            ],
            "text/plain": [
              "            Date     Open     High      Low    Close  Adj Close   Volume Code\n",
              "2995  2021-01-07  12400.0  12637.0  12285.0  12601.0    12601.0  1222189  VOD\n",
              "2996  2021-01-08  12680.0  13219.0  12550.0  13188.0    13188.0  2796671  VOD\n",
              "2997  2021-01-11  12800.0  13261.0  12906.0  12986.0    12986.0  2185762  VOD\n",
              "2998  2021-01-12  13010.0  12989.0  12759.0  12953.0    12953.0  1545602  VOD\n",
              "2999  2021-01-13  12759.0  13248.0  12846.0  12932.0    12932.0  2137728  VOD"
            ]
          },
          "metadata": {
            "tags": []
          },
          "execution_count": 4
        }
      ]
    },
    {
      "cell_type": "markdown",
      "metadata": {
        "id": "0kz7KgdeMMPd"
      },
      "source": [
        "# Exploratory Data Analysis"
      ]
    },
    {
      "cell_type": "code",
      "metadata": {
        "colab": {
          "base_uri": "https://localhost:8080/",
          "height": 195
        },
        "id": "uO_zQKLPMKee",
        "outputId": "2436bf71-2fde-48cf-c849-d94dca88bede"
      },
      "source": [
        "train_df.head()"
      ],
      "execution_count": 5,
      "outputs": [
        {
          "output_type": "execute_result",
          "data": {
            "text/html": [
              "<div>\n",
              "<style scoped>\n",
              "    .dataframe tbody tr th:only-of-type {\n",
              "        vertical-align: middle;\n",
              "    }\n",
              "\n",
              "    .dataframe tbody tr th {\n",
              "        vertical-align: top;\n",
              "    }\n",
              "\n",
              "    .dataframe thead th {\n",
              "        text-align: right;\n",
              "    }\n",
              "</style>\n",
              "<table border=\"1\" class=\"dataframe\">\n",
              "  <thead>\n",
              "    <tr style=\"text-align: right;\">\n",
              "      <th></th>\n",
              "      <th>Date</th>\n",
              "      <th>Open</th>\n",
              "      <th>High</th>\n",
              "      <th>Low</th>\n",
              "      <th>Close</th>\n",
              "      <th>Adj Close</th>\n",
              "      <th>Volume</th>\n",
              "      <th>Code</th>\n",
              "    </tr>\n",
              "  </thead>\n",
              "  <tbody>\n",
              "    <tr>\n",
              "      <th>0</th>\n",
              "      <td>2000-01-04</td>\n",
              "      <td>2760.0</td>\n",
              "      <td>2830.0</td>\n",
              "      <td>2745.0</td>\n",
              "      <td>2785.0</td>\n",
              "      <td>1224.745361</td>\n",
              "      <td>869505</td>\n",
              "      <td>ABG</td>\n",
              "    </tr>\n",
              "    <tr>\n",
              "      <th>1</th>\n",
              "      <td>2000-01-05</td>\n",
              "      <td>2700.0</td>\n",
              "      <td>2755.0</td>\n",
              "      <td>2650.0</td>\n",
              "      <td>2720.0</td>\n",
              "      <td>1196.160889</td>\n",
              "      <td>616931</td>\n",
              "      <td>ABG</td>\n",
              "    </tr>\n",
              "    <tr>\n",
              "      <th>2</th>\n",
              "      <td>2000-01-06</td>\n",
              "      <td>2720.0</td>\n",
              "      <td>2740.0</td>\n",
              "      <td>2680.0</td>\n",
              "      <td>2695.0</td>\n",
              "      <td>1185.166626</td>\n",
              "      <td>214315</td>\n",
              "      <td>ABG</td>\n",
              "    </tr>\n",
              "    <tr>\n",
              "      <th>3</th>\n",
              "      <td>2000-01-07</td>\n",
              "      <td>2695.0</td>\n",
              "      <td>2800.0</td>\n",
              "      <td>2695.0</td>\n",
              "      <td>2790.0</td>\n",
              "      <td>1226.944214</td>\n",
              "      <td>1290643</td>\n",
              "      <td>ABG</td>\n",
              "    </tr>\n",
              "    <tr>\n",
              "      <th>4</th>\n",
              "      <td>2000-01-10</td>\n",
              "      <td>2810.0</td>\n",
              "      <td>3025.0</td>\n",
              "      <td>2810.0</td>\n",
              "      <td>2950.0</td>\n",
              "      <td>1297.306641</td>\n",
              "      <td>3630720</td>\n",
              "      <td>ABG</td>\n",
              "    </tr>\n",
              "  </tbody>\n",
              "</table>\n",
              "</div>"
            ],
            "text/plain": [
              "         Date    Open    High     Low   Close    Adj Close   Volume Code\n",
              "0  2000-01-04  2760.0  2830.0  2745.0  2785.0  1224.745361   869505  ABG\n",
              "1  2000-01-05  2700.0  2755.0  2650.0  2720.0  1196.160889   616931  ABG\n",
              "2  2000-01-06  2720.0  2740.0  2680.0  2695.0  1185.166626   214315  ABG\n",
              "3  2000-01-07  2695.0  2800.0  2695.0  2790.0  1226.944214  1290643  ABG\n",
              "4  2000-01-10  2810.0  3025.0  2810.0  2950.0  1297.306641  3630720  ABG"
            ]
          },
          "metadata": {
            "tags": []
          },
          "execution_count": 5
        }
      ]
    },
    {
      "cell_type": "code",
      "metadata": {
        "colab": {
          "base_uri": "https://localhost:8080/",
          "height": 284
        },
        "id": "uEK6qVrgMWvi",
        "outputId": "1ca6d459-a728-4b6f-896a-c6f4c6e4b943"
      },
      "source": [
        "train_df.describe()"
      ],
      "execution_count": 6,
      "outputs": [
        {
          "output_type": "execute_result",
          "data": {
            "text/html": [
              "<div>\n",
              "<style scoped>\n",
              "    .dataframe tbody tr th:only-of-type {\n",
              "        vertical-align: middle;\n",
              "    }\n",
              "\n",
              "    .dataframe tbody tr th {\n",
              "        vertical-align: top;\n",
              "    }\n",
              "\n",
              "    .dataframe thead th {\n",
              "        text-align: right;\n",
              "    }\n",
              "</style>\n",
              "<table border=\"1\" class=\"dataframe\">\n",
              "  <thead>\n",
              "    <tr style=\"text-align: right;\">\n",
              "      <th></th>\n",
              "      <th>Open</th>\n",
              "      <th>High</th>\n",
              "      <th>Low</th>\n",
              "      <th>Close</th>\n",
              "      <th>Adj Close</th>\n",
              "    </tr>\n",
              "  </thead>\n",
              "  <tbody>\n",
              "    <tr>\n",
              "      <th>count</th>\n",
              "      <td>153459.000000</td>\n",
              "      <td>153459.000000</td>\n",
              "      <td>153459.000000</td>\n",
              "      <td>153459.000000</td>\n",
              "      <td>153459.000000</td>\n",
              "    </tr>\n",
              "    <tr>\n",
              "      <th>mean</th>\n",
              "      <td>18209.652775</td>\n",
              "      <td>18474.976964</td>\n",
              "      <td>17935.523983</td>\n",
              "      <td>18206.519646</td>\n",
              "      <td>15641.079111</td>\n",
              "    </tr>\n",
              "    <tr>\n",
              "      <th>std</th>\n",
              "      <td>28117.951627</td>\n",
              "      <td>28486.272447</td>\n",
              "      <td>27728.821578</td>\n",
              "      <td>28101.766936</td>\n",
              "      <td>27472.107770</td>\n",
              "    </tr>\n",
              "    <tr>\n",
              "      <th>min</th>\n",
              "      <td>28.490000</td>\n",
              "      <td>29.330000</td>\n",
              "      <td>2.000000</td>\n",
              "      <td>29.230000</td>\n",
              "      <td>29.230000</td>\n",
              "    </tr>\n",
              "    <tr>\n",
              "      <th>25%</th>\n",
              "      <td>3787.199951</td>\n",
              "      <td>3845.620117</td>\n",
              "      <td>3729.830078</td>\n",
              "      <td>3785.000000</td>\n",
              "      <td>2761.094116</td>\n",
              "    </tr>\n",
              "    <tr>\n",
              "      <th>50%</th>\n",
              "      <td>10500.000000</td>\n",
              "      <td>10665.000000</td>\n",
              "      <td>10326.900391</td>\n",
              "      <td>10500.000000</td>\n",
              "      <td>7688.450684</td>\n",
              "    </tr>\n",
              "    <tr>\n",
              "      <th>75%</th>\n",
              "      <td>21250.000000</td>\n",
              "      <td>21552.000000</td>\n",
              "      <td>20935.000000</td>\n",
              "      <td>21250.000000</td>\n",
              "      <td>17150.972657</td>\n",
              "    </tr>\n",
              "    <tr>\n",
              "      <th>max</th>\n",
              "      <td>349001.000000</td>\n",
              "      <td>349945.000000</td>\n",
              "      <td>334002.000000</td>\n",
              "      <td>344308.000000</td>\n",
              "      <td>343680.218750</td>\n",
              "    </tr>\n",
              "  </tbody>\n",
              "</table>\n",
              "</div>"
            ],
            "text/plain": [
              "                Open           High  ...          Close      Adj Close\n",
              "count  153459.000000  153459.000000  ...  153459.000000  153459.000000\n",
              "mean    18209.652775   18474.976964  ...   18206.519646   15641.079111\n",
              "std     28117.951627   28486.272447  ...   28101.766936   27472.107770\n",
              "min        28.490000      29.330000  ...      29.230000      29.230000\n",
              "25%      3787.199951    3845.620117  ...    3785.000000    2761.094116\n",
              "50%     10500.000000   10665.000000  ...   10500.000000    7688.450684\n",
              "75%     21250.000000   21552.000000  ...   21250.000000   17150.972657\n",
              "max    349001.000000  349945.000000  ...  344308.000000  343680.218750\n",
              "\n",
              "[8 rows x 5 columns]"
            ]
          },
          "metadata": {
            "tags": []
          },
          "execution_count": 6
        }
      ]
    },
    {
      "cell_type": "code",
      "metadata": {
        "colab": {
          "base_uri": "https://localhost:8080/",
          "height": 195
        },
        "id": "ghOs1Mq9MdRS",
        "outputId": "124f901e-97b7-477c-8bf3-e236ff935ccf"
      },
      "source": [
        "train_df.Date = train_df.Date.astype(\"datetime64\")\r\n",
        "train_df.head()"
      ],
      "execution_count": 7,
      "outputs": [
        {
          "output_type": "execute_result",
          "data": {
            "text/html": [
              "<div>\n",
              "<style scoped>\n",
              "    .dataframe tbody tr th:only-of-type {\n",
              "        vertical-align: middle;\n",
              "    }\n",
              "\n",
              "    .dataframe tbody tr th {\n",
              "        vertical-align: top;\n",
              "    }\n",
              "\n",
              "    .dataframe thead th {\n",
              "        text-align: right;\n",
              "    }\n",
              "</style>\n",
              "<table border=\"1\" class=\"dataframe\">\n",
              "  <thead>\n",
              "    <tr style=\"text-align: right;\">\n",
              "      <th></th>\n",
              "      <th>Date</th>\n",
              "      <th>Open</th>\n",
              "      <th>High</th>\n",
              "      <th>Low</th>\n",
              "      <th>Close</th>\n",
              "      <th>Adj Close</th>\n",
              "      <th>Volume</th>\n",
              "      <th>Code</th>\n",
              "    </tr>\n",
              "  </thead>\n",
              "  <tbody>\n",
              "    <tr>\n",
              "      <th>0</th>\n",
              "      <td>2000-01-04</td>\n",
              "      <td>2760.0</td>\n",
              "      <td>2830.0</td>\n",
              "      <td>2745.0</td>\n",
              "      <td>2785.0</td>\n",
              "      <td>1224.745361</td>\n",
              "      <td>869505</td>\n",
              "      <td>ABG</td>\n",
              "    </tr>\n",
              "    <tr>\n",
              "      <th>1</th>\n",
              "      <td>2000-01-05</td>\n",
              "      <td>2700.0</td>\n",
              "      <td>2755.0</td>\n",
              "      <td>2650.0</td>\n",
              "      <td>2720.0</td>\n",
              "      <td>1196.160889</td>\n",
              "      <td>616931</td>\n",
              "      <td>ABG</td>\n",
              "    </tr>\n",
              "    <tr>\n",
              "      <th>2</th>\n",
              "      <td>2000-01-06</td>\n",
              "      <td>2720.0</td>\n",
              "      <td>2740.0</td>\n",
              "      <td>2680.0</td>\n",
              "      <td>2695.0</td>\n",
              "      <td>1185.166626</td>\n",
              "      <td>214315</td>\n",
              "      <td>ABG</td>\n",
              "    </tr>\n",
              "    <tr>\n",
              "      <th>3</th>\n",
              "      <td>2000-01-07</td>\n",
              "      <td>2695.0</td>\n",
              "      <td>2800.0</td>\n",
              "      <td>2695.0</td>\n",
              "      <td>2790.0</td>\n",
              "      <td>1226.944214</td>\n",
              "      <td>1290643</td>\n",
              "      <td>ABG</td>\n",
              "    </tr>\n",
              "    <tr>\n",
              "      <th>4</th>\n",
              "      <td>2000-01-10</td>\n",
              "      <td>2810.0</td>\n",
              "      <td>3025.0</td>\n",
              "      <td>2810.0</td>\n",
              "      <td>2950.0</td>\n",
              "      <td>1297.306641</td>\n",
              "      <td>3630720</td>\n",
              "      <td>ABG</td>\n",
              "    </tr>\n",
              "  </tbody>\n",
              "</table>\n",
              "</div>"
            ],
            "text/plain": [
              "        Date    Open    High     Low   Close    Adj Close   Volume Code\n",
              "0 2000-01-04  2760.0  2830.0  2745.0  2785.0  1224.745361   869505  ABG\n",
              "1 2000-01-05  2700.0  2755.0  2650.0  2720.0  1196.160889   616931  ABG\n",
              "2 2000-01-06  2720.0  2740.0  2680.0  2695.0  1185.166626   214315  ABG\n",
              "3 2000-01-07  2695.0  2800.0  2695.0  2790.0  1226.944214  1290643  ABG\n",
              "4 2000-01-10  2810.0  3025.0  2810.0  2950.0  1297.306641  3630720  ABG"
            ]
          },
          "metadata": {
            "tags": []
          },
          "execution_count": 7
        }
      ]
    },
    {
      "cell_type": "code",
      "metadata": {
        "colab": {
          "base_uri": "https://localhost:8080/",
          "height": 404
        },
        "id": "t3yKd_5NMzEX",
        "outputId": "a3dc09d7-efd8-41c4-fdfc-3a3f1b68eb1b"
      },
      "source": [
        "plt.figure(figsize=(10,6))\r\n",
        "plt.grid(True)\r\n",
        "plt.xlabel('Dates')\r\n",
        "plt.ylabel('Close Prices')\r\n",
        "plt.plot(train_df.Date, train_df['Close'])\r\n",
        "plt.title('Stock closing price')\r\n",
        "plt.show()"
      ],
      "execution_count": 8,
      "outputs": [
        {
          "output_type": "display_data",
          "data": {
            "image/png": "[encoded data removed]",
            "text/plain": [
              "<Figure size 720x432 with 1 Axes>"
            ]
          },
          "metadata": {
            "tags": [],
            "needs_background": "light"
          }
        }
      ]
    },
    {
      "cell_type": "markdown",
      "metadata": {
        "id": "EBibuocjOVqE"
      },
      "source": [
        "# Feature Engineering"
      ]
    },
    {
      "cell_type": "code",
      "metadata": {
        "id": "ytwie_HIQiMg"
      },
      "source": [
        "train_df.Volume = train_df.Volume.astype(\"int\")"
      ],
      "execution_count": 9,
      "outputs": []
    },
    {
      "cell_type": "code",
      "metadata": {
        "colab": {
          "base_uri": "https://localhost:8080/",
          "height": 212
        },
        "id": "ArDaNj87oDfB",
        "outputId": "90526763-9bfc-4ed0-d70d-679ab8248fb6"
      },
      "source": [
        "#Find all unique codes\r\n",
        "unique = train_df.iloc[:,-1].unique()\r\n",
        "print(len(unique))\r\n",
        "\r\n",
        "listofDF = []\r\n",
        "dataF = train_df.groupby(train_df.iloc[:,-1])\r\n",
        "for value in unique:\r\n",
        "  listofDF.append(dataF.get_group(value))\r\n",
        "\r\n",
        "d = {}\r\n",
        "for i in range(len(listofDF)):\r\n",
        "    d[unique[i]] = listofDF[i]\r\n",
        "\r\n",
        "d[\"ABG\"].head()"
      ],
      "execution_count": 11,
      "outputs": [
        {
          "output_type": "stream",
          "text": [
            "40\n"
          ],
          "name": "stdout"
        },
        {
          "output_type": "execute_result",
          "data": {
            "text/html": [
              "<div>\n",
              "<style scoped>\n",
              "    .dataframe tbody tr th:only-of-type {\n",
              "        vertical-align: middle;\n",
              "    }\n",
              "\n",
              "    .dataframe tbody tr th {\n",
              "        vertical-align: top;\n",
              "    }\n",
              "\n",
              "    .dataframe thead th {\n",
              "        text-align: right;\n",
              "    }\n",
              "</style>\n",
              "<table border=\"1\" class=\"dataframe\">\n",
              "  <thead>\n",
              "    <tr style=\"text-align: right;\">\n",
              "      <th></th>\n",
              "      <th>Date</th>\n",
              "      <th>Open</th>\n",
              "      <th>High</th>\n",
              "      <th>Low</th>\n",
              "      <th>Close</th>\n",
              "      <th>Adj Close</th>\n",
              "      <th>Volume</th>\n",
              "      <th>Code</th>\n",
              "    </tr>\n",
              "  </thead>\n",
              "  <tbody>\n",
              "    <tr>\n",
              "      <th>0</th>\n",
              "      <td>2000-01-04</td>\n",
              "      <td>2760.0</td>\n",
              "      <td>2830.0</td>\n",
              "      <td>2745.0</td>\n",
              "      <td>2785.0</td>\n",
              "      <td>1224.745361</td>\n",
              "      <td>869505</td>\n",
              "      <td>ABG</td>\n",
              "    </tr>\n",
              "    <tr>\n",
              "      <th>1</th>\n",
              "      <td>2000-01-05</td>\n",
              "      <td>2700.0</td>\n",
              "      <td>2755.0</td>\n",
              "      <td>2650.0</td>\n",
              "      <td>2720.0</td>\n",
              "      <td>1196.160889</td>\n",
              "      <td>616931</td>\n",
              "      <td>ABG</td>\n",
              "    </tr>\n",
              "    <tr>\n",
              "      <th>2</th>\n",
              "      <td>2000-01-06</td>\n",
              "      <td>2720.0</td>\n",
              "      <td>2740.0</td>\n",
              "      <td>2680.0</td>\n",
              "      <td>2695.0</td>\n",
              "      <td>1185.166626</td>\n",
              "      <td>214315</td>\n",
              "      <td>ABG</td>\n",
              "    </tr>\n",
              "    <tr>\n",
              "      <th>3</th>\n",
              "      <td>2000-01-07</td>\n",
              "      <td>2695.0</td>\n",
              "      <td>2800.0</td>\n",
              "      <td>2695.0</td>\n",
              "      <td>2790.0</td>\n",
              "      <td>1226.944214</td>\n",
              "      <td>1290643</td>\n",
              "      <td>ABG</td>\n",
              "    </tr>\n",
              "    <tr>\n",
              "      <th>4</th>\n",
              "      <td>2000-01-10</td>\n",
              "      <td>2810.0</td>\n",
              "      <td>3025.0</td>\n",
              "      <td>2810.0</td>\n",
              "      <td>2950.0</td>\n",
              "      <td>1297.306641</td>\n",
              "      <td>3630720</td>\n",
              "      <td>ABG</td>\n",
              "    </tr>\n",
              "  </tbody>\n",
              "</table>\n",
              "</div>"
            ],
            "text/plain": [
              "        Date    Open    High     Low   Close    Adj Close   Volume Code\n",
              "0 2000-01-04  2760.0  2830.0  2745.0  2785.0  1224.745361   869505  ABG\n",
              "1 2000-01-05  2700.0  2755.0  2650.0  2720.0  1196.160889   616931  ABG\n",
              "2 2000-01-06  2720.0  2740.0  2680.0  2695.0  1185.166626   214315  ABG\n",
              "3 2000-01-07  2695.0  2800.0  2695.0  2790.0  1226.944214  1290643  ABG\n",
              "4 2000-01-10  2810.0  3025.0  2810.0  2950.0  1297.306641  3630720  ABG"
            ]
          },
          "metadata": {
            "tags": []
          },
          "execution_count": 11
        }
      ]
    },
    {
      "cell_type": "code",
      "metadata": {
        "colab": {
          "base_uri": "https://localhost:8080/",
          "height": 195
        },
        "id": "zpUA50FuPAXp",
        "outputId": "37f54e5a-2c87-4ab8-b0b4-1ad4c318ed34"
      },
      "source": [
        "train_df.tail()"
      ],
      "execution_count": null,
      "outputs": [
        {
          "output_type": "execute_result",
          "data": {
            "text/html": [
              "<div>\n",
              "<style scoped>\n",
              "    .dataframe tbody tr th:only-of-type {\n",
              "        vertical-align: middle;\n",
              "    }\n",
              "\n",
              "    .dataframe tbody tr th {\n",
              "        vertical-align: top;\n",
              "    }\n",
              "\n",
              "    .dataframe thead th {\n",
              "        text-align: right;\n",
              "    }\n",
              "</style>\n",
              "<table border=\"1\" class=\"dataframe\">\n",
              "  <thead>\n",
              "    <tr style=\"text-align: right;\">\n",
              "      <th></th>\n",
              "      <th>Date</th>\n",
              "      <th>Open</th>\n",
              "      <th>High</th>\n",
              "      <th>Low</th>\n",
              "      <th>Close</th>\n",
              "      <th>Adj Close</th>\n",
              "      <th>Volume</th>\n",
              "      <th>Code</th>\n",
              "    </tr>\n",
              "  </thead>\n",
              "  <tbody>\n",
              "    <tr>\n",
              "      <th>5416</th>\n",
              "      <td>2021-01-13</td>\n",
              "      <td>45060.0</td>\n",
              "      <td>45413.0</td>\n",
              "      <td>44679.0</td>\n",
              "      <td>44679.0</td>\n",
              "      <td>44679.0</td>\n",
              "      <td>1918831</td>\n",
              "      <td>BHP</td>\n",
              "    </tr>\n",
              "    <tr>\n",
              "      <th>3018</th>\n",
              "      <td>2021-01-13</td>\n",
              "      <td>9598.0</td>\n",
              "      <td>9598.0</td>\n",
              "      <td>9365.0</td>\n",
              "      <td>9436.0</td>\n",
              "      <td>9436.0</td>\n",
              "      <td>1545993</td>\n",
              "      <td>NRP</td>\n",
              "    </tr>\n",
              "    <tr>\n",
              "      <th>223</th>\n",
              "      <td>2021-01-13</td>\n",
              "      <td>6305.0</td>\n",
              "      <td>6410.0</td>\n",
              "      <td>6270.0</td>\n",
              "      <td>6316.0</td>\n",
              "      <td>6316.0</td>\n",
              "      <td>10705047</td>\n",
              "      <td>SSW</td>\n",
              "    </tr>\n",
              "    <tr>\n",
              "      <th>781</th>\n",
              "      <td>2021-01-13</td>\n",
              "      <td>27801.0</td>\n",
              "      <td>28999.0</td>\n",
              "      <td>28197.0</td>\n",
              "      <td>28910.0</td>\n",
              "      <td>28910.0</td>\n",
              "      <td>254316</td>\n",
              "      <td>RNI</td>\n",
              "    </tr>\n",
              "    <tr>\n",
              "      <th>2999</th>\n",
              "      <td>2021-01-13</td>\n",
              "      <td>12759.0</td>\n",
              "      <td>13248.0</td>\n",
              "      <td>12846.0</td>\n",
              "      <td>12932.0</td>\n",
              "      <td>12932.0</td>\n",
              "      <td>2137728</td>\n",
              "      <td>VOD</td>\n",
              "    </tr>\n",
              "  </tbody>\n",
              "</table>\n",
              "</div>"
            ],
            "text/plain": [
              "           Date     Open     High      Low    Close  Adj Close    Volume Code\n",
              "5416 2021-01-13  45060.0  45413.0  44679.0  44679.0    44679.0   1918831  BHP\n",
              "3018 2021-01-13   9598.0   9598.0   9365.0   9436.0     9436.0   1545993  NRP\n",
              "223  2021-01-13   6305.0   6410.0   6270.0   6316.0     6316.0  10705047  SSW\n",
              "781  2021-01-13  27801.0  28999.0  28197.0  28910.0    28910.0    254316  RNI\n",
              "2999 2021-01-13  12759.0  13248.0  12846.0  12932.0    12932.0   2137728  VOD"
            ]
          },
          "metadata": {
            "tags": []
          },
          "execution_count": 42
        }
      ]
    },
    {
      "cell_type": "code",
      "metadata": {
        "colab": {
          "base_uri": "https://localhost:8080/",
          "height": 390
        },
        "id": "3Gg53zwtPatA",
        "outputId": "f2890769-c183-4740-ab9f-0282a3deda5b"
      },
      "source": [
        "plt.figure(figsize=(10,6))\r\n",
        "df_vol = train_df['Low']\r\n",
        "df_vol.plot(style='k.',kind='hist')\r\n",
        "plt.title('Histogram of Volume')\r\n",
        "plt.show()"
      ],
      "execution_count": null,
      "outputs": [
        {
          "output_type": "display_data",
          "data": {
            "image/png": "[encoded data removed]",
            "text/plain": [
              "<Figure size 720x432 with 1 Axes>"
            ]
          },
          "metadata": {
            "tags": [],
            "needs_background": "light"
          }
        }
      ]
    },
    {
      "cell_type": "code",
      "metadata": {
        "colab": {
          "base_uri": "https://localhost:8080/"
        },
        "id": "Fr6uscgQRBLZ",
        "outputId": "07fc0967-4ce3-4571-874b-fef8ef6a3383"
      },
      "source": [
        "train_df.Close.shift(1)"
      ],
      "execution_count": null,
      "outputs": [
        {
          "output_type": "execute_result",
          "data": {
            "text/plain": [
              "0               NaN\n",
              "0        2785.00000\n",
              "0         890.00000\n",
              "0        2500.00000\n",
              "0        1021.01001\n",
              "           ...     \n",
              "5416    38552.00000\n",
              "3018    44679.00000\n",
              "223      9436.00000\n",
              "781      6316.00000\n",
              "2999    28910.00000\n",
              "Name: Close, Length: 153459, dtype: float64"
            ]
          },
          "metadata": {
            "tags": []
          },
          "execution_count": 44
        }
      ]
    },
    {
      "cell_type": "code",
      "metadata": {
        "id": "pHM-dHHsRnEn"
      },
      "source": [
        "from statsmodels.tsa.stattools import adfuller\r\n",
        "def test_stationarity(timeseries):\r\n",
        "    #Determing rolling statistics\r\n",
        "    rolmean = timeseries.rolling(12).mean()\r\n",
        "    rolstd = timeseries.rolling(12).std()\r\n",
        "    #Plot rolling statistics:\r\n",
        "    plt.plot(timeseries, color='yellow',label='Original')\r\n",
        "    plt.plot(rolmean, color='red', label='Rolling Mean')\r\n",
        "    plt.plot(rolstd, color='black', label = 'Rolling Std')\r\n",
        "    plt.legend(loc='best')\r\n",
        "    plt.title('Rolling Mean and Standard Deviation')\r\n",
        "    plt.show(block=False)\r\n",
        "    print(\"Results of dickey fuller test\")\r\n",
        "    adft = adfuller(timeseries,autolag='AIC')\r\n",
        "    # output for dft will give us without defining what the values are.\r\n",
        "    #hence we manually write what values does it explains using a for loop\r\n",
        "    output = pd.Series(adft[0:4],index=['Test Statistics','p-value','No. of lags used','Number of observations used'])\r\n",
        "    for key,values in adft[4].items():\r\n",
        "        output['critical value (%s)'%key] =  values\r\n",
        "    print(output)\r\n",
        "\r\n",
        "for code in top40[\"Share Code\"]:\r\n",
        "  test_stationarity(d[code].Close)"
      ],
      "execution_count": null,
      "outputs": []
    },
    {
      "cell_type": "markdown",
      "metadata": {
        "id": "V9T4y_eNwouX"
      },
      "source": [
        "# Logging the Data"
      ]
    },
    {
      "cell_type": "code",
      "metadata": {
        "id": "bJqO0R1cw8Sr"
      },
      "source": [
        "from pylab import rcParams"
      ],
      "execution_count": 18,
      "outputs": []
    },
    {
      "cell_type": "code",
      "metadata": {
        "id": "hCEyePLWvhW-"
      },
      "source": [
        "for code in top40[\"Share Code\"]:\r\n",
        "  rcParams['figure.figsize'] = 10, 6\r\n",
        "  df_log = np.log(d[code].Close)\r\n",
        "  moving_avg = df_log.rolling(12).mean()\r\n",
        "  std_dev = df_log.rolling(12).std()\r\n",
        "  plt.legend(loc='best')\r\n",
        "  plt.title('Moving Average')\r\n",
        "  plt.plot(std_dev, color =\"black\", label = \"Standard Deviation\")\r\n",
        "  plt.plot(moving_avg, color=\"red\", label = \"Mean\")\r\n",
        "  plt.legend()\r\n",
        "  plt.show()"
      ],
      "execution_count": null,
      "outputs": []
    },
    {
      "cell_type": "markdown",
      "metadata": {
        "id": "DovFaZACxqvx"
      },
      "source": [
        "# Splitting the Test and Train DataSets"
      ]
    },
    {
      "cell_type": "markdown",
      "metadata": {
        "id": "55_YziGe3bV-"
      },
      "source": [
        "https://pypi.org/project/pmdarima/"
      ]
    },
    {
      "cell_type": "code",
      "metadata": {
        "id": "otABOj6gxoJ1"
      },
      "source": [
        "\r\n",
        "for code in top40[\"Share Code\"]:\r\n",
        "  df_log = np.log(d[code].Close)\r\n",
        "  train_data, test_data = df_log[:int(len(df_log))], df_log[int(len(df_log)*0.95):]\r\n",
        "  plt.figure(figsize=(10,6))\r\n",
        "  plt.grid(True)\r\n",
        "  plt.xlabel('Dates')\r\n",
        "  plt.ylabel('Closing Prices')\r\n",
        "  plt.plot(train_data, 'green', label='Train data')\r\n",
        "  plt.plot(test_data, 'blue', label='Test data')\r\n",
        "  plt.legend()\r\n",
        "  plt.show()\r\n",
        "\r\n",
        "  model_autoARIMA = auto_arima(train_data, m=1)\r\n",
        "\r\n",
        "  # make your forecasts\r\n",
        "  forecasts = model_autoARIMA.predict(test_data.shape[0])  # predict N steps into the future\r\n",
        "\r\n",
        "  # Visualize the forecasts (blue=train, green=forecasts)\r\n",
        "\r\n",
        "  x = np.arange(df_log.shape[0])\r\n",
        "  plt.plot(x[:int(len(df_log))], train_data, c='blue')\r\n",
        "  plt.plot(x[int(len(df_log)*0.95):], forecasts, c='green')\r\n",
        "  plt.show()\r\n",
        "\r\n",
        "  # Serialize your model just like you would in scikit:\r\n",
        "  with open(f'drive/MyDrive/Stock Price Models/{code}_model.pkl', 'wb') as pkl:\r\n",
        "      pickle.dump(model_autoARIMA, pkl)\r\n"
      ],
      "execution_count": null,
      "outputs": []
    },
    {
      "cell_type": "code",
      "metadata": {
        "id": "50s00Dgy7hlV"
      },
      "source": [
        ""
      ],
      "execution_count": null,
      "outputs": []
    }
  ]
}